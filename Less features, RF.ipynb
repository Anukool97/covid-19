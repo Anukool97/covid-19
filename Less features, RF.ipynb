{
 "cells": [
  {
   "cell_type": "markdown",
   "metadata": {},
   "source": [
    "# Less features, random Forest"
   ]
  },
  {
   "cell_type": "code",
   "execution_count": 1,
   "metadata": {},
   "outputs": [],
   "source": [
    "import pandas as pd\n",
    "from sklearn.model_selection import train_test_split\n",
    "from sklearn.model_selection import RandomizedSearchCV, GridSearchCV, StratifiedKFold\n",
    "from sklearn.ensemble import RandomForestClassifier\n",
    "from sklearn.metrics import (\n",
    "    precision_score,\n",
    "    recall_score,\n",
    "    roc_auc_score,\n",
    "    confusion_matrix,\n",
    ")\n",
    "import numpy as np\n",
    "import matplotlib.pyplot as plt\n",
    "\n",
    "pd.set_option('display.max_columns', None)"
   ]
  },
  {
   "cell_type": "code",
   "execution_count": 2,
   "metadata": {},
   "outputs": [],
   "source": [
    "df = pd.read_csv(\"dataset-clean-withNAs.csv\")"
   ]
  },
  {
   "cell_type": "code",
   "execution_count": 3,
   "metadata": {},
   "outputs": [
    {
     "name": "stdout",
     "output_type": "stream",
     "text": [
      "(5644, 5)\n"
     ]
    }
   ],
   "source": [
    "features = [\n",
    "    'Leukocytes',\n",
    "    'Monocytes',\n",
    "    'Platelets',\n",
    "    'Patient age quantile',\n",
    "]\n",
    "\n",
    "df_clean = df[features + [\"SARS-Cov-2 exam result\"]]\n",
    "\n",
    "print(df_clean.shape)"
   ]
  },
  {
   "cell_type": "code",
   "execution_count": 4,
   "metadata": {},
   "outputs": [],
   "source": [
    "df_clean = df_clean.dropna()"
   ]
  },
  {
   "cell_type": "code",
   "execution_count": 5,
   "metadata": {},
   "outputs": [],
   "source": [
    "X = df_clean.drop(\"SARS-Cov-2 exam result\", axis=1)\n",
    "y = df_clean[\"SARS-Cov-2 exam result\"]"
   ]
  },
  {
   "cell_type": "code",
   "execution_count": 6,
   "metadata": {},
   "outputs": [
    {
     "data": {
      "text/plain": [
       "array([[0.00000000e+00, 6.84210526e-01, 0.00000000e+00, ...,\n",
       "        0.00000000e+00, 0.00000000e+00, 0.00000000e+00],\n",
       "       [1.77210704e-04, 8.94736842e-01, 0.00000000e+00, ...,\n",
       "        0.00000000e+00, 0.00000000e+00, 0.00000000e+00],\n",
       "       [3.54421407e-04, 4.21052632e-01, 0.00000000e+00, ...,\n",
       "        0.00000000e+00, 0.00000000e+00, 0.00000000e+00],\n",
       "       ...,\n",
       "       [9.99645579e-01, 2.10526316e-01, 0.00000000e+00, ...,\n",
       "        0.00000000e+00, 0.00000000e+00, 0.00000000e+00],\n",
       "       [9.99822789e-01, 5.26315789e-01, 0.00000000e+00, ...,\n",
       "        0.00000000e+00, 0.00000000e+00, 1.00000000e+00],\n",
       "       [1.00000000e+00, 1.00000000e+00, 1.00000000e+00, ...,\n",
       "        0.00000000e+00, 0.00000000e+00, 0.00000000e+00]])"
      ]
     },
     "execution_count": 6,
     "metadata": {},
     "output_type": "execute_result"
    }
   ],
   "source": [
    "# scaling\n",
    "from sklearn.preprocessing import MinMaxScaler\n",
    "\n",
    "scaler = MinMaxScaler()\n",
    "scaler.fit_transform(df)"
   ]
  },
  {
   "cell_type": "code",
   "execution_count": 7,
   "metadata": {},
   "outputs": [
    {
     "name": "stdout",
     "output_type": "stream",
     "text": [
      "0    411\n",
      "1     69\n",
      "Name: SARS-Cov-2 exam result, dtype: int64\n",
      "0    107\n",
      "1     14\n",
      "Name: SARS-Cov-2 exam result, dtype: int64\n"
     ]
    }
   ],
   "source": [
    "X_train, X_test, y_train, y_test = train_test_split(X, y, test_size=0.2, random_state=42)\n",
    "\n",
    "print(y_train.value_counts())\n",
    "print(y_test.value_counts())"
   ]
  },
  {
   "cell_type": "code",
   "execution_count": 8,
   "metadata": {},
   "outputs": [],
   "source": [
    "def _extract_feature_importance(model, features):\n",
    "    if not hasattr(model, \"coef_\") and not hasattr(model, \"feature_importances_\"):\n",
    "        raise Exception(\"Not possible to collect feature importances\")\n",
    "\n",
    "    if hasattr(model, \"coef_\"):\n",
    "        model_feature_importances = model.coef_[0]\n",
    "    elif hasattr(model, \"feature_importances_\"):\n",
    "        model_feature_importances = model.feature_importances_\n",
    "\n",
    "    return [\n",
    "        (feature, importance)\n",
    "        for feature, importance in sorted(\n",
    "            zip(features, model_feature_importances),\n",
    "            key=lambda pair: pair[1],\n",
    "            reverse=True,\n",
    "        )\n",
    "    ]\n",
    "\n",
    "def run_single(X_train, y_train, X_test, y_test, which_model):\n",
    "\n",
    "    model = which_model[\"model\"]\n",
    "    \n",
    "    model.fit(X_train, y_train)\n",
    "\n",
    "    # let us just print the performance on the train set\n",
    "    predictions_train = model.predict(X_train)\n",
    "    train_results = {\n",
    "        \"prec\": precision_score(y_train, predictions_train),\n",
    "        \"rec\": recall_score(y_train, predictions_train),\n",
    "        \"roc\": roc_auc_score(y_train, predictions_train),\n",
    "    }\n",
    "    cm_train = confusion_matrix(y_train, predictions_train)\n",
    "    \n",
    "    # in the test set\n",
    "    predictions_test = model.predict(X_test)\n",
    "    test_results = {\n",
    "        \"prec\": precision_score(y_test, predictions_test),\n",
    "        \"rec\": recall_score(y_test, predictions_test),\n",
    "        \"roc\": roc_auc_score(y_test, predictions_test),\n",
    "    }\n",
    "\n",
    "    cm_test = confusion_matrix(y_test, predictions_test)\n",
    "    \n",
    "    # feature importance\n",
    "    feature_importance = _extract_feature_importance(model, X_train.columns.values)\n",
    "    \n",
    "    return {\n",
    "        \"test_results\": test_results, \n",
    "        \"train_results\": train_results, \n",
    "        \"test_cm\" : cm_test,\n",
    "        \"train_cm\" : cm_train,\n",
    "        \"feature_importance\": feature_importance,\n",
    "        \"y_pred\": predictions_test\n",
    "    }\n",
    "\n",
    "\n",
    "\n",
    "def run_cv(X_train, y_train, X_test, y_test, which_model):\n",
    "\n",
    "    K_FOLD_ITERATIONS = 10\n",
    "\n",
    "    search = GridSearchCV(\n",
    "        which_model[\"model\"], \n",
    "        which_model[\"params_to_tune\"], \n",
    "        scoring=[\"precision\", \"recall\", \"roc_auc\"],\n",
    "        refit=\"roc_auc\",\n",
    "        cv=StratifiedKFold(\n",
    "            n_splits=K_FOLD_ITERATIONS, \n",
    "            shuffle=True),  \n",
    "        n_jobs=-1)\n",
    "    \n",
    "    search.fit(X_train, y_train)\n",
    "    \n",
    "    model = search.best_estimator_\n",
    "\n",
    "    # let us just print the performance on the train set\n",
    "    predictions_train = model.predict(X_train)\n",
    "    train_results = {\n",
    "        \"prec\": precision_score(y_train, predictions_train),\n",
    "        \"rec\": recall_score(y_train, predictions_train),\n",
    "        \"roc\": roc_auc_score(y_train, predictions_train),\n",
    "    }\n",
    "    cm_train = confusion_matrix(y_train, predictions_train)\n",
    "    \n",
    "    # in the test set\n",
    "    predictions_test = model.predict(X_test)\n",
    "    test_results = {\n",
    "        \"prec\": precision_score(y_test, predictions_test),\n",
    "        \"rec\": recall_score(y_test, predictions_test),\n",
    "        \"roc\": roc_auc_score(y_test, predictions_test),\n",
    "    }\n",
    "\n",
    "    cm_test = confusion_matrix(y_test, predictions_test)\n",
    "    \n",
    "    # feature importance\n",
    "    feature_importance = _extract_feature_importance(model, X_train.columns.values)\n",
    "    \n",
    "    return {\n",
    "        \"test_results\": test_results, \n",
    "        \"train_results\": train_results, \n",
    "        \"test_cm\" : cm_test,\n",
    "        \"train_cm\" : cm_train,\n",
    "        \"feature_importance\": feature_importance,\n",
    "        \"y_pred\": predictions_test\n",
    "    }\n",
    "\n",
    "\n",
    "from sklearn.metrics import classification_report\n",
    "\n",
    "def print_result(result, fi=True):\n",
    "    print(\"Results in the training set\")\n",
    "    print(result[\"train_results\"])\n",
    "    print(result[\"train_cm\"])\n",
    "    print(\"Results in the test set\")\n",
    "    print(result[\"test_results\"])\n",
    "    print(result[\"test_cm\"])\n",
    "    \n",
    "    print(\"Report:\")\n",
    "    print(classification_report(y_test,result[\"y_pred\"]))\n",
    "    \n",
    "    if fi:\n",
    "        print(\"Feature importances\")\n",
    "        pd_fi = pd.DataFrame(result[\"feature_importance\"], columns=[\"feature\", \"importance\"])\n",
    "        pd_fi = pd_fi[(pd_fi.importance > 0.01)]\n",
    "\n",
    "        p = plt.barh(pd_fi[\"feature\"], pd_fi[\"importance\"])\n",
    "        print(p)    "
   ]
  },
  {
   "cell_type": "code",
   "execution_count": 9,
   "metadata": {},
   "outputs": [],
   "source": [
    "rf_model = {\n",
    "    \"model\": RandomForestClassifier(random_state=42),\n",
    "    \"params_to_tune\": {\n",
    "        \"max_depth\": [3, 6, 12, 24, None],\n",
    "        \"max_features\": [\"auto\", \"sqrt\", \"log2\", None],\n",
    "        \"min_samples_split\": [2, 3, 4, 5, 10],\n",
    "        \"bootstrap\": [True, False],\n",
    "        \"criterion\": [\"gini\", \"entropy\"],\n",
    "        \"n_estimators\": [10, 50, 100, 150, 200]\n",
    "    }\n",
    "}"
   ]
  },
  {
   "cell_type": "code",
   "execution_count": 10,
   "metadata": {},
   "outputs": [],
   "source": [
    "result = run_single(X_train, y_train, X_test, y_test, rf_model)"
   ]
  },
  {
   "cell_type": "code",
   "execution_count": 11,
   "metadata": {},
   "outputs": [
    {
     "name": "stdout",
     "output_type": "stream",
     "text": [
      "Results in the training set\n",
      "{'prec': 1.0, 'rec': 1.0, 'roc': 1.0}\n",
      "[[411   0]\n",
      " [  0  69]]\n",
      "Results in the test set\n",
      "{'prec': 0.75, 'rec': 0.42857142857142855, 'roc': 0.7049399198931909}\n",
      "[[105   2]\n",
      " [  8   6]]\n",
      "Report:\n",
      "              precision    recall  f1-score   support\n",
      "\n",
      "           0       0.93      0.98      0.95       107\n",
      "           1       0.75      0.43      0.55        14\n",
      "\n",
      "    accuracy                           0.92       121\n",
      "   macro avg       0.84      0.70      0.75       121\n",
      "weighted avg       0.91      0.92      0.91       121\n",
      "\n",
      "Feature importances\n",
      "<BarContainer object of 4 artists>\n"
     ]
    },
    {
     "data": {
      "image/png": "[encoded data removed]",
      "text/plain": [
       "<Figure size 432x288 with 1 Axes>"
      ]
     },
     "metadata": {
      "needs_background": "light"
     },
     "output_type": "display_data"
    }
   ],
   "source": [
    "print_result(result)"
   ]
  },
  {
   "cell_type": "code",
   "execution_count": null,
   "metadata": {},
   "outputs": [],
   "source": []
  }
 ],
 "metadata": {
  "kernelspec": {
   "display_name": "venv",
   "language": "python",
   "name": "venv"
  },
  "language_info": {
   "codemirror_mode": {
    "name": "ipython",
    "version": 3
   },
   "file_extension": ".py",
   "mimetype": "text/x-python",
   "name": "python",
   "nbconvert_exporter": "python",
   "pygments_lexer": "ipython3",
   "version": "3.8.2"
  }
 },
 "nbformat": 4,
 "nbformat_minor": 4
}
