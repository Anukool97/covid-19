{
 "cells": [
  {
   "cell_type": "markdown",
   "metadata": {},
   "source": [
    "# Less features, random Forest\n",
    "\n",
    "Same features in https://github.com/diogodutra/COVID-19-Albert_Eintein/blob/master/COVID-19_Albert_Einstein.ipynb\n"
   ]
  },
  {
   "cell_type": "code",
   "execution_count": 1,
   "metadata": {},
   "outputs": [],
   "source": [
    "import pandas as pd\n",
    "from sklearn.model_selection import train_test_split\n",
    "from sklearn.model_selection import RandomizedSearchCV, GridSearchCV, StratifiedKFold\n",
    "from sklearn.ensemble import RandomForestClassifier\n",
    "from sklearn.metrics import (\n",
    "    precision_score,\n",
    "    recall_score,\n",
    "    roc_auc_score,\n",
    "    confusion_matrix,\n",
    "    mean_absolute_error\n",
    ")\n",
    "import numpy as np\n",
    "import matplotlib.pyplot as plt\n",
    "\n",
    "pd.set_option('display.max_columns', None)"
   ]
  },
  {
   "cell_type": "code",
   "execution_count": 2,
   "metadata": {},
   "outputs": [],
   "source": [
    "df = pd.read_excel(\"dataset.xlsx\")"
   ]
  },
  {
   "cell_type": "code",
   "execution_count": 3,
   "metadata": {},
   "outputs": [
    {
     "name": "stdout",
     "output_type": "stream",
     "text": [
      "(5644, 5)\n"
     ]
    },
    {
     "name": "stderr",
     "output_type": "stream",
     "text": [
      "/Library/Frameworks/Python.framework/Versions/3.8/lib/python3.8/site-packages/pandas/core/generic.py:6746: SettingWithCopyWarning: \n",
      "A value is trying to be set on a copy of a slice from a DataFrame\n",
      "\n",
      "See the caveats in the documentation: https://pandas.pydata.org/pandas-docs/stable/user_guide/indexing.html#returning-a-view-versus-a-copy\n",
      "  self._update_inplace(new_data)\n"
     ]
    }
   ],
   "source": [
    "features = [\n",
    "    'Leukocytes',\n",
    "    'Monocytes',\n",
    "    'Platelets',\n",
    "    'Patient age quantile',\n",
    "]\n",
    "\n",
    "df_clean = df[features + [\"SARS-Cov-2 exam result\"]]\n",
    "\n",
    "print(df_clean.shape)\n",
    "\n",
    "# predicted label as simple integers\n",
    "df_clean[\"SARS-Cov-2 exam result\"].replace(\"positive\", 1, inplace=True)\n",
    "df_clean[\"SARS-Cov-2 exam result\"].replace(\"negative\", 0, inplace=True)"
   ]
  },
  {
   "cell_type": "code",
   "execution_count": 4,
   "metadata": {},
   "outputs": [
    {
     "name": "stdout",
     "output_type": "stream",
     "text": [
      "(601, 5)\n"
     ]
    }
   ],
   "source": [
    "df_clean = df_clean.dropna()\n",
    "print(df_clean.shape)"
   ]
  },
  {
   "cell_type": "code",
   "execution_count": 5,
   "metadata": {},
   "outputs": [],
   "source": [
    "X = df_clean.drop(\"SARS-Cov-2 exam result\", axis=1)\n",
    "y = df_clean[\"SARS-Cov-2 exam result\"]"
   ]
  },
  {
   "cell_type": "code",
   "execution_count": 6,
   "metadata": {},
   "outputs": [
    {
     "data": {
      "text/plain": [
       "array([[0.29434284, 0.37647056, 0.16839917, 0.89473684],\n",
       "       [0.36452575, 0.33333333, 0.32952185, 0.05263158],\n",
       "       [0.1735432 , 0.51372545, 0.17567568, 0.47368421],\n",
       "       ...,\n",
       "       [0.2245853 , 0.45882351, 0.17047818, 0.78947368],\n",
       "       [0.04381117, 0.52941174, 0.06444907, 0.89473684],\n",
       "       [0.11186731, 0.40784312, 0.13617464, 1.        ]])"
      ]
     },
     "execution_count": 6,
     "metadata": {},
     "output_type": "execute_result"
    }
   ],
   "source": [
    "# scaling\n",
    "from sklearn.preprocessing import MinMaxScaler\n",
    "\n",
    "scaler = MinMaxScaler()\n",
    "scaler.fit_transform(X)"
   ]
  },
  {
   "cell_type": "code",
   "execution_count": 7,
   "metadata": {},
   "outputs": [
    {
     "name": "stdout",
     "output_type": "stream",
     "text": [
      "0    411\n",
      "1     69\n",
      "Name: SARS-Cov-2 exam result, dtype: int64\n",
      "0    107\n",
      "1     14\n",
      "Name: SARS-Cov-2 exam result, dtype: int64\n"
     ]
    }
   ],
   "source": [
    "X_train, X_test, y_train, y_test = train_test_split(X, y, test_size=0.2, random_state=42)\n",
    "\n",
    "print(y_train.value_counts())\n",
    "print(y_test.value_counts())"
   ]
  },
  {
   "cell_type": "code",
   "execution_count": 8,
   "metadata": {},
   "outputs": [],
   "source": [
    "def _extract_feature_importance(model, features):\n",
    "    if not hasattr(model, \"coef_\") and not hasattr(model, \"feature_importances_\"):\n",
    "        raise Exception(\"Not possible to collect feature importances\")\n",
    "\n",
    "    if hasattr(model, \"coef_\"):\n",
    "        model_feature_importances = model.coef_[0]\n",
    "    elif hasattr(model, \"feature_importances_\"):\n",
    "        model_feature_importances = model.feature_importances_\n",
    "\n",
    "    return [\n",
    "        (feature, importance)\n",
    "        for feature, importance in sorted(\n",
    "            zip(features, model_feature_importances),\n",
    "            key=lambda pair: pair[1],\n",
    "            reverse=True,\n",
    "        )\n",
    "    ]\n",
    "\n",
    "def run_single(X_train, y_train, X_test, y_test, which_model):\n",
    "\n",
    "    model = which_model[\"model\"]\n",
    "    \n",
    "    model.fit(X_train, y_train)\n",
    "\n",
    "    # let us just print the performance on the train set\n",
    "    predictions_train = model.predict(X_train)\n",
    "    train_results = {\n",
    "        \"prec\": precision_score(y_train, predictions_train),\n",
    "        \"rec\": recall_score(y_train, predictions_train),\n",
    "        \"roc\": roc_auc_score(y_train, predictions_train),\n",
    "    }\n",
    "    cm_train = confusion_matrix(y_train, predictions_train)\n",
    "    \n",
    "    # in the test set\n",
    "    predictions_test = model.predict(X_test)\n",
    "    test_results = {\n",
    "        \"prec\": precision_score(y_test, predictions_test),\n",
    "        \"rec\": recall_score(y_test, predictions_test),\n",
    "        \"roc\": roc_auc_score(y_test, predictions_test),\n",
    "    }\n",
    "\n",
    "    cm_test = confusion_matrix(y_test, predictions_test)\n",
    "    \n",
    "    # feature importance\n",
    "    feature_importance = _extract_feature_importance(model, X_train.columns.values)\n",
    "    \n",
    "    return {\n",
    "        \"test_results\": test_results, \n",
    "        \"train_results\": train_results, \n",
    "        \"test_cm\" : cm_test,\n",
    "        \"train_cm\" : cm_train,\n",
    "        \"feature_importance\": feature_importance,\n",
    "        \"y_pred\": predictions_test\n",
    "    }\n",
    "\n",
    "\n",
    "\n",
    "def run_cv(X_train, y_train, X_test, y_test, which_model):\n",
    "\n",
    "    K_FOLD_ITERATIONS = 10\n",
    "\n",
    "    search = GridSearchCV(\n",
    "        which_model[\"model\"], \n",
    "        which_model[\"params_to_tune\"], \n",
    "        scoring=\"balanced_accuracy\", # roc_auc, f1, balanced_accuracy\n",
    "        cv=StratifiedKFold(\n",
    "            n_splits=K_FOLD_ITERATIONS, \n",
    "            shuffle=True),  \n",
    "        n_jobs=-1)\n",
    "    \n",
    "    search.fit(X_train, y_train)\n",
    "    \n",
    "    model = search.best_estimator_\n",
    "\n",
    "    # let us just print the performance on the train set\n",
    "    predictions_train = model.predict(X_train)\n",
    "    train_results = {\n",
    "        \"prec\": precision_score(y_train, predictions_train),\n",
    "        \"rec\": recall_score(y_train, predictions_train),\n",
    "        \"roc\": roc_auc_score(y_train, predictions_train),\n",
    "        \"mae\": mean_absolute_error(y_train, predictions_train),\n",
    "    }\n",
    "    cm_train = confusion_matrix(y_train, predictions_train)\n",
    "    \n",
    "    # in the test set\n",
    "    predictions_test = model.predict(X_test)\n",
    "    test_results = {\n",
    "        \"prec\": precision_score(y_test, predictions_test),\n",
    "        \"rec\": recall_score(y_test, predictions_test),\n",
    "        \"roc\": roc_auc_score(y_test, predictions_test),\n",
    "        \"mae\": mean_absolute_error(y_test, predictions_test),\n",
    "    }\n",
    "\n",
    "    cm_test = confusion_matrix(y_test, predictions_test)\n",
    "    \n",
    "    # feature importance\n",
    "    feature_importance = _extract_feature_importance(model, X_train.columns.values)\n",
    "    \n",
    "    return {\n",
    "        \"test_results\": test_results, \n",
    "        \"train_results\": train_results, \n",
    "        \"test_cm\" : cm_test,\n",
    "        \"train_cm\" : cm_train,\n",
    "        \"feature_importance\": feature_importance,\n",
    "        \"y_pred\": predictions_test,\n",
    "        \"model\": model\n",
    "    }\n",
    "\n",
    "\n",
    "from sklearn.metrics import classification_report\n",
    "\n",
    "def print_result(result, fi=True):\n",
    "    print(\"Results in the training set\")\n",
    "    print(result[\"train_results\"])\n",
    "    print(result[\"train_cm\"])\n",
    "    print(\"Results in the test set\")\n",
    "    print(result[\"test_results\"])\n",
    "    print(result[\"test_cm\"])\n",
    "    \n",
    "    print(\"Report:\")\n",
    "    print(classification_report(y_test,result[\"y_pred\"]))\n",
    "    \n",
    "    if fi:\n",
    "        print(\"Feature importances\")\n",
    "        pd_fi = pd.DataFrame(result[\"feature_importance\"], columns=[\"feature\", \"importance\"])\n",
    "        pd_fi = pd_fi[(pd_fi.importance > 0.01)]\n",
    "\n",
    "        p = plt.barh(pd_fi[\"feature\"], pd_fi[\"importance\"])\n",
    "        print(p)    "
   ]
  },
  {
   "cell_type": "code",
   "execution_count": 9,
   "metadata": {},
   "outputs": [],
   "source": [
    "rf_model = {\n",
    "    \"model\": RandomForestClassifier(random_state=42),\n",
    "    \"params_to_tune\": {\n",
    "        \"max_depth\": [6, 7, 10, 12, None],\n",
    "        \"min_samples_split\": [2, 3, 4, 5],\n",
    "        \"bootstrap\": [True, False],\n",
    "        \"criterion\": [\"gini\", \"entropy\"],\n",
    "        \"n_estimators\": [50, 100, 150, 200]\n",
    "    }\n",
    "}"
   ]
  },
  {
   "cell_type": "code",
   "execution_count": 10,
   "metadata": {},
   "outputs": [],
   "source": [
    "result = run_cv(X_train, y_train, X_test, y_test, rf_model)"
   ]
  },
  {
   "cell_type": "code",
   "execution_count": 11,
   "metadata": {},
   "outputs": [
    {
     "name": "stdout",
     "output_type": "stream",
     "text": [
      "Results in the training set\n",
      "{'prec': 1.0, 'rec': 1.0, 'roc': 1.0, 'mae': 0.0}\n",
      "[[411   0]\n",
      " [  0  69]]\n",
      "Results in the test set\n",
      "{'prec': 0.7142857142857143, 'rec': 0.35714285714285715, 'roc': 0.6692256341789052, 'mae': 0.09090909090909091}\n",
      "[[105   2]\n",
      " [  9   5]]\n",
      "Report:\n",
      "              precision    recall  f1-score   support\n",
      "\n",
      "           0       0.92      0.98      0.95       107\n",
      "           1       0.71      0.36      0.48        14\n",
      "\n",
      "    accuracy                           0.91       121\n",
      "   macro avg       0.82      0.67      0.71       121\n",
      "weighted avg       0.90      0.91      0.90       121\n",
      "\n",
      "Feature importances\n",
      "<BarContainer object of 4 artists>\n"
     ]
    },
    {
     "data": {
      "image/png": "[encoded data removed]",
      "text/plain": [
       "<Figure size 432x288 with 1 Axes>"
      ]
     },
     "metadata": {
      "needs_background": "light"
     },
     "output_type": "display_data"
    }
   ],
   "source": [
    "print_result(result)"
   ]
  },
  {
   "cell_type": "code",
   "execution_count": 12,
   "metadata": {},
   "outputs": [
    {
     "name": "stdout",
     "output_type": "stream",
     "text": [
      "105\n",
      "5\n",
      "2\n",
      "9\n"
     ]
    }
   ],
   "source": [
    "tn, fp, fn, tp = result[\"test_cm\"].ravel()\n",
    "print(tn)\n",
    "print(tp)\n",
    "print(fp)\n",
    "print(fn)"
   ]
  },
  {
   "cell_type": "code",
   "execution_count": 13,
   "metadata": {},
   "outputs": [],
   "source": [
    "#y_scores = grid_search_clf.predict_proba(X_test)[:, 1]"
   ]
  }
 ],
 "metadata": {
  "kernelspec": {
   "display_name": "venv",
   "language": "python",
   "name": "venv"
  },
  "language_info": {
   "codemirror_mode": {
    "name": "ipython",
    "version": 3
   },
   "file_extension": ".py",
   "mimetype": "text/x-python",
   "name": "python",
   "nbconvert_exporter": "python",
   "pygments_lexer": "ipython3",
   "version": "3.8.2"
  }
 },
 "nbformat": 4,
 "nbformat_minor": 4
}
