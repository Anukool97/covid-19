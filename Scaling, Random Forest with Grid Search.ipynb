{
 "cells": [
  {
   "cell_type": "markdown",
   "metadata": {},
   "source": [
    "# Scaling, Random Forest with Grid Search\n",
    "\n",
    "Results are not good."
   ]
  },
  {
   "cell_type": "code",
   "execution_count": 1,
   "metadata": {},
   "outputs": [],
   "source": [
    "import pandas as pd\n",
    "from sklearn.model_selection import train_test_split\n",
    "from sklearn.model_selection import RandomizedSearchCV, GridSearchCV, StratifiedKFold\n",
    "from sklearn.ensemble import RandomForestClassifier\n",
    "from sklearn.metrics import (\n",
    "    precision_score,\n",
    "    recall_score,\n",
    "    roc_auc_score,\n",
    "    confusion_matrix,\n",
    ")\n",
    "import numpy as np\n",
    "import matplotlib.pyplot as plt\n",
    "\n",
    "pd.set_option('display.max_columns', None)"
   ]
  },
  {
   "cell_type": "code",
   "execution_count": 2,
   "metadata": {},
   "outputs": [],
   "source": [
    "df = pd.read_csv(\"dataset-clean-withNAs.csv\")\n",
    "df = df.drop(columns=[\"Unnamed: 0\"])"
   ]
  },
  {
   "cell_type": "code",
   "execution_count": 3,
   "metadata": {},
   "outputs": [],
   "source": [
    "df = df.fillna(0)"
   ]
  },
  {
   "cell_type": "code",
   "execution_count": 4,
   "metadata": {},
   "outputs": [],
   "source": [
    "X = df.drop(\"SARS-Cov-2 exam result\", axis=1)\n",
    "y = df[\"SARS-Cov-2 exam result\"]"
   ]
  },
  {
   "cell_type": "code",
   "execution_count": 5,
   "metadata": {},
   "outputs": [
    {
     "data": {
      "text/plain": [
       "array([[0.68421053, 0.62832804, 0.61925487, ..., 0.        , 0.        ,\n",
       "        0.        ],\n",
       "       [0.89473684, 0.66134191, 0.61607135, ..., 0.        , 0.        ,\n",
       "        0.        ],\n",
       "       [0.42105263, 0.62832804, 0.61925487, ..., 0.        , 0.        ,\n",
       "        0.        ],\n",
       "       ...,\n",
       "       [0.21052632, 0.62832804, 0.61925487, ..., 0.        , 0.        ,\n",
       "        0.        ],\n",
       "       [0.52631579, 0.62832804, 0.61925487, ..., 0.        , 0.        ,\n",
       "        1.        ],\n",
       "       [1.        , 0.72523967, 0.69642853, ..., 0.        , 0.        ,\n",
       "        0.        ]])"
      ]
     },
     "execution_count": 5,
     "metadata": {},
     "output_type": "execute_result"
    }
   ],
   "source": [
    "# scaling\n",
    "from sklearn.preprocessing import MinMaxScaler\n",
    "\n",
    "scaler = MinMaxScaler()\n",
    "scaler.fit_transform(X)"
   ]
  },
  {
   "cell_type": "code",
   "execution_count": 6,
   "metadata": {},
   "outputs": [
    {
     "name": "stdout",
     "output_type": "stream",
     "text": [
      "0    4065\n",
      "1     450\n",
      "Name: SARS-Cov-2 exam result, dtype: int64\n",
      "0    1021\n",
      "1     108\n",
      "Name: SARS-Cov-2 exam result, dtype: int64\n"
     ]
    }
   ],
   "source": [
    "X_train, X_test, y_train, y_test = train_test_split(X, y, test_size=0.2, random_state=42)\n",
    "\n",
    "print(y_train.value_counts())\n",
    "print(y_test.value_counts())"
   ]
  },
  {
   "cell_type": "code",
   "execution_count": 7,
   "metadata": {},
   "outputs": [
    {
     "data": {
      "text/plain": [
       "Index(['Patient age quantile', 'Hematocrit', 'Hemoglobin', 'Platelets',\n",
       "       'Mean platelet volume ', 'Red blood Cells', 'Lymphocytes',\n",
       "       'Mean corpuscular hemoglobin concentration (MCHC)', 'Leukocytes',\n",
       "       'Basophils', 'Mean corpuscular hemoglobin (MCH)', 'Eosinophils',\n",
       "       'Mean corpuscular volume (MCV)', 'Monocytes',\n",
       "       'Red blood cell distribution width (RDW)', 'Serum Glucose',\n",
       "       'Neutrophils', 'Urea', 'Proteina C reativa mg/dL', 'Creatinine',\n",
       "       'Potassium', 'Sodium', 'Alanine transaminase', 'Aspartate transaminase',\n",
       "       'Gamma-glutamyltransferase ', 'Total Bilirubin', 'Direct Bilirubin',\n",
       "       'Indirect Bilirubin', 'Alkaline phosphatase', 'Ionized calcium ',\n",
       "       'Magnesium', 'pCO2 (venous blood gas analysis)',\n",
       "       'Hb saturation (venous blood gas analysis)',\n",
       "       'Base excess (venous blood gas analysis)',\n",
       "       'pO2 (venous blood gas analysis)',\n",
       "       'Total CO2 (venous blood gas analysis)',\n",
       "       'pH (venous blood gas analysis)', 'HCO3 (venous blood gas analysis)',\n",
       "       'Rods #', 'Segmented', 'Promyelocytes', 'Metamyelocytes', 'Myelocytes',\n",
       "       'Urine - pH', 'Urine - Density', 'Urine - Leukocytes',\n",
       "       'Urine - Red blood cells', 'Relationship (Patient/Normal)',\n",
       "       'International normalized ratio (INR)', 'Lactic Dehydrogenase',\n",
       "       'Vitamin B12', 'Creatine phosphokinase (CPK) ', 'Ferritin',\n",
       "       'Arterial Lactic Acid', 'Lipase dosage', 'Albumin',\n",
       "       'Hb saturation (arterial blood gases)',\n",
       "       'pCO2 (arterial blood gas analysis)',\n",
       "       'Base excess (arterial blood gas analysis)',\n",
       "       'pH (arterial blood gas analysis)',\n",
       "       'Total CO2 (arterial blood gas analysis)',\n",
       "       'HCO3 (arterial blood gas analysis)',\n",
       "       'pO2 (arterial blood gas analysis)', 'Arteiral Fio2', 'Phosphor',\n",
       "       'ctO2 (arterial blood gas analysis)',\n",
       "       'Respiratory Syncytial Virus_detected', 'Influenza A_detected',\n",
       "       'Influenza B_detected', 'Parainfluenza 1_detected',\n",
       "       'CoronavirusNL63_detected', 'Rhinovirus/Enterovirus_detected',\n",
       "       'Coronavirus HKU1_detected', 'Parainfluenza 3_detected',\n",
       "       'Chlamydophila pneumoniae_detected', 'Adenovirus_detected',\n",
       "       'Parainfluenza 4_detected', 'Coronavirus229E_detected',\n",
       "       'CoronavirusOC43_detected', 'Inf A H1N1 2009_detected',\n",
       "       'Bordetella pertussis_detected', 'Metapneumovirus_detected',\n",
       "       'Influenza B, rapid test_positive', 'Influenza A, rapid test_positive',\n",
       "       'Strepto A_positive', 'Urine - Aspect_altered_coloring',\n",
       "       'Urine - Aspect_clear', 'Urine - Aspect_cloudy',\n",
       "       'Urine - Aspect_lightly_cloudy', 'Urine - Hemoglobin_present',\n",
       "       'Urine - Crystals_Oxalato de Cálcio +++',\n",
       "       'Urine - Crystals_Oxalato de Cálcio -++',\n",
       "       'Urine - Crystals_Urato Amorfo +++',\n",
       "       'Urine - Crystals_Urato Amorfo --+', 'Urine - Color_citrus_yellow',\n",
       "       'Urine - Color_light_yellow', 'Urine - Color_orange',\n",
       "       'Urine - Color_yellow'],\n",
       "      dtype='object')"
      ]
     },
     "execution_count": 7,
     "metadata": {},
     "output_type": "execute_result"
    }
   ],
   "source": [
    "X_train.columns"
   ]
  },
  {
   "cell_type": "code",
   "execution_count": 8,
   "metadata": {},
   "outputs": [],
   "source": [
    "# from sklearn.feature_selection import SelectFromModel\n",
    "# from sklearn.tree import DecisionTreeClassifier\n",
    "\n",
    "# print(X_train.shape)\n",
    "# selector = SelectFromModel(estimator=DecisionTreeClassifier(random_state=42)).fit(X_train, y_train)\n",
    "\n",
    "# feature_idx = selector.get_support()\n",
    "# feature_name = X.columns[feature_idx]\n",
    "\n",
    "# X_train = selector.transform(X_train)\n",
    "# X_train = pd.DataFrame(X_train, columns=feature_name)\n",
    "\n",
    "# X_test = selector.transform(X_test)\n",
    "# X_test = pd.DataFrame(X_test, columns=feature_name)\n",
    "\n",
    "# print(X_train.shape)\n",
    "# print(feature_name)"
   ]
  },
  {
   "cell_type": "code",
   "execution_count": 9,
   "metadata": {},
   "outputs": [],
   "source": [
    "def _extract_feature_importance(model, features):\n",
    "    if not hasattr(model, \"coef_\") and not hasattr(model, \"feature_importances_\"):\n",
    "        raise Exception(\"Not possible to collect feature importances\")\n",
    "\n",
    "    if hasattr(model, \"coef_\"):\n",
    "        model_feature_importances = model.coef_[0]\n",
    "    elif hasattr(model, \"feature_importances_\"):\n",
    "        model_feature_importances = model.feature_importances_\n",
    "\n",
    "    return [\n",
    "        (feature, importance)\n",
    "        for feature, importance in sorted(\n",
    "            zip(features, model_feature_importances),\n",
    "            key=lambda pair: pair[1],\n",
    "            reverse=True,\n",
    "        )\n",
    "    ]\n",
    "\n",
    "def run_cv(X_train, y_train, X_test, y_test, which_model):\n",
    "\n",
    "    K_FOLD_ITERATIONS = 10\n",
    "\n",
    "    search = GridSearchCV(\n",
    "        which_model[\"model\"], \n",
    "        which_model[\"params_to_tune\"], \n",
    "        scoring=[\"precision\", \"recall\", \"roc_auc\"],\n",
    "        refit=\"roc_auc\",\n",
    "        cv=StratifiedKFold(\n",
    "            n_splits=K_FOLD_ITERATIONS, \n",
    "            shuffle=True),  \n",
    "        n_jobs=-1)\n",
    "    \n",
    "    search.fit(X_train, y_train)\n",
    "    \n",
    "    model = search.best_estimator_\n",
    "\n",
    "    # let us just print the performance on the train set\n",
    "    predictions_train = model.predict(X_train)\n",
    "    train_results = {\n",
    "        \"prec\": precision_score(y_train, predictions_train),\n",
    "        \"rec\": recall_score(y_train, predictions_train),\n",
    "        \"roc\": roc_auc_score(y_train, predictions_train),\n",
    "    }\n",
    "    cm_train = confusion_matrix(y_train, predictions_train)\n",
    "    \n",
    "    # in the test set\n",
    "    predictions_test = model.predict(X_test)\n",
    "    test_results = {\n",
    "        \"prec\": precision_score(y_test, predictions_test),\n",
    "        \"rec\": recall_score(y_test, predictions_test),\n",
    "        \"roc\": roc_auc_score(y_test, predictions_test),\n",
    "    }\n",
    "\n",
    "    cm_test = confusion_matrix(y_test, predictions_test)\n",
    "    \n",
    "    # feature importance\n",
    "    feature_importance = _extract_feature_importance(model, X_train.columns.values)\n",
    "    \n",
    "    return {\n",
    "        \"test_results\": test_results, \n",
    "        \"train_results\": train_results, \n",
    "        \"test_cm\" : cm_test,\n",
    "        \"train_cm\" : cm_train,\n",
    "        \"feature_importance\": feature_importance,\n",
    "        \"y_pred\": predictions_test\n",
    "    }\n",
    "\n",
    "\n",
    "from sklearn.metrics import classification_report\n",
    "\n",
    "def print_result(result, fi=True):\n",
    "    print(\"Results in the training set\")\n",
    "    print(result[\"train_results\"])\n",
    "    print(result[\"train_cm\"])\n",
    "    print(\"Results in the test set\")\n",
    "    print(result[\"test_results\"])\n",
    "    print(result[\"test_cm\"])\n",
    "    \n",
    "    print(\"Report:\")\n",
    "    print(classification_report(y_test,result[\"y_pred\"]))\n",
    "    \n",
    "    if fi:\n",
    "        print(\"Feature importances\")\n",
    "        pd_fi = pd.DataFrame(result[\"feature_importance\"], columns=[\"feature\", \"importance\"])\n",
    "        pd_fi = pd_fi[(pd_fi.importance > 0.01)]\n",
    "\n",
    "        p = plt.barh(pd_fi[\"feature\"], pd_fi[\"importance\"])\n",
    "        print(p)    "
   ]
  },
  {
   "cell_type": "code",
   "execution_count": 10,
   "metadata": {},
   "outputs": [],
   "source": [
    "rf_model = {\n",
    "    \"model\": RandomForestClassifier(random_state=42),\n",
    "    \"params_to_tune\": {\n",
    "        \"max_depth\": [3, 6, 12, 24, None],\n",
    "        \"max_features\": [\"auto\", \"sqrt\", \"log2\", None],\n",
    "        \"min_samples_split\": [2, 3, 4, 5, 10],\n",
    "        \"bootstrap\": [True, False],\n",
    "        \"criterion\": [\"gini\", \"entropy\"],\n",
    "        \"n_estimators\": [10, 50, 100, 150, 200]\n",
    "    }\n",
    "}"
   ]
  },
  {
   "cell_type": "code",
   "execution_count": 11,
   "metadata": {},
   "outputs": [],
   "source": [
    "result = run_cv(X_train, y_train, X_test, y_test, rf_model)"
   ]
  },
  {
   "cell_type": "code",
   "execution_count": 12,
   "metadata": {},
   "outputs": [
    {
     "name": "stdout",
     "output_type": "stream",
     "text": [
      "Results in the training set\n",
      "{'prec': 1.0, 'rec': 0.14888888888888888, 'roc': 0.5744444444444444}\n",
      "[[4065    0]\n",
      " [ 383   67]]\n",
      "Results in the test set\n",
      "{'prec': 0.6666666666666666, 'rec': 0.05555555555555555, 'roc': 0.5263086298835564}\n",
      "[[1018    3]\n",
      " [ 102    6]]\n",
      "Report:\n",
      "              precision    recall  f1-score   support\n",
      "\n",
      "           0       0.91      1.00      0.95      1021\n",
      "           1       0.67      0.06      0.10       108\n",
      "\n",
      "    accuracy                           0.91      1129\n",
      "   macro avg       0.79      0.53      0.53      1129\n",
      "weighted avg       0.89      0.91      0.87      1129\n",
      "\n",
      "Feature importances\n",
      "<BarContainer object of 21 artists>\n"
     ]
    },
    {
     "data": {
      "image/png": "[encoded data removed]",
      "text/plain": [
       "<Figure size 432x288 with 1 Axes>"
      ]
     },
     "metadata": {
      "needs_background": "light"
     },
     "output_type": "display_data"
    }
   ],
   "source": [
    "print_result(result)"
   ]
  },
  {
   "cell_type": "code",
   "execution_count": null,
   "metadata": {},
   "outputs": [],
   "source": []
  }
 ],
 "metadata": {
  "kernelspec": {
   "display_name": "venv",
   "language": "python",
   "name": "venv"
  },
  "language_info": {
   "codemirror_mode": {
    "name": "ipython",
    "version": 3
   },
   "file_extension": ".py",
   "mimetype": "text/x-python",
   "name": "python",
   "nbconvert_exporter": "python",
   "pygments_lexer": "ipython3",
   "version": "3.8.2"
  }
 },
 "nbformat": 4,
 "nbformat_minor": 4
}
